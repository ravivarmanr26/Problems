{
 "cells": [
  {
   "cell_type": "markdown",
   "id": "80cc858a",
   "metadata": {},
   "source": [
    "Exercise 1: Calculate the multiplication and sum of two numbers"
   ]
  },
  {
   "cell_type": "code",
   "execution_count": 3,
   "id": "fbb6a48f",
   "metadata": {},
   "outputs": [
    {
     "name": "stdout",
     "output_type": "stream",
     "text": [
      "110\n"
     ]
    }
   ],
   "source": [
    "def calculation(a,b):\n",
    "    if a * b == 1000 or a * b < 1000:\n",
    "        return a * b\n",
    "    else :\n",
    "        return a+b \n",
    "    \n",
    "\n",
    "result = calculation(70,40)\n",
    "print(result)"
   ]
  },
  {
   "cell_type": "markdown",
   "id": "c46f77fc",
   "metadata": {},
   "source": [
    "Exercise 2: "
   ]
  },
  {
   "cell_type": "code",
   "execution_count": 15,
   "id": "3d36512e",
   "metadata": {},
   "outputs": [
    {
     "name": "stdout",
     "output_type": "stream",
     "text": [
      "Printing current and previous number sum in a range(10)\n",
      "Current Number 0 Previous Number  0  Sum:  0\n",
      "Current Number 1 Previous Number  0  Sum:  1\n",
      "Current Number 2 Previous Number  1  Sum:  3\n",
      "Current Number 3 Previous Number  2  Sum:  5\n",
      "Current Number 4 Previous Number  3  Sum:  7\n",
      "Current Number 5 Previous Number  4  Sum:  9\n",
      "Current Number 6 Previous Number  5  Sum:  11\n",
      "Current Number 7 Previous Number  6  Sum:  13\n",
      "Current Number 8 Previous Number  7  Sum:  15\n",
      "Current Number 9 Previous Number  8  Sum:  17\n",
      "None\n"
     ]
    }
   ],
   "source": [
    "class calculate:\n",
    "    def __init__(self,number):\n",
    "        self.number = number\n",
    "    \n",
    "    def sum_of_number(self):\n",
    "        print(f\"Printing current and previous number sum in a range({self.number})\")\n",
    "        previous = 0\n",
    "        current = 0\n",
    "            \n",
    "        for i in range(self.number):\n",
    "            sum = previous + current\n",
    "            print(f\"Current Number {current} Previous Number  {previous}  Sum:  {sum}\")\n",
    "            previous = current\n",
    "            current = current + 1\n",
    "\n",
    "value = calculate(10)\n",
    "print(value.sum_of_number())\n",
    "        "
   ]
  },
  {
   "cell_type": "markdown",
   "id": "47c2fad8",
   "metadata": {},
   "source": [
    "Practice Problem: Add two matrices in Python\n",
    "matrixOne = [[6,9,11],\n",
    "    [2 ,3,8]]\n",
    "\n",
    "matrixTwo = [[15,18,11],\n",
    "    [26,16,19]]\n",
    "\n",
    "# Result shoud be\n",
    "result = [[0,0,0],\n",
    "         [0,0,0]]"
   ]
  },
  {
   "cell_type": "markdown",
   "id": "e6cc6563",
   "metadata": {},
   "source": [
    "Exercise 8: Print the following pattern\n"
   ]
  },
  {
   "cell_type": "code",
   "execution_count": 1,
   "id": "2f4ca184",
   "metadata": {},
   "outputs": [
    {
     "name": "stdout",
     "output_type": "stream",
     "text": [
      " \n",
      "1  \n",
      "2 2  \n",
      "3 3 3  \n",
      "4 4 4 4  \n"
     ]
    }
   ],
   "source": [
    "n = 5\n",
    "for i in range(n):\n",
    "    # print(\"i\",i)\n",
    "    for j in range(i):\n",
    "        # print(\"dvmd\")\n",
    "        print(i,end=\" \")\n",
    "        pass\n",
    "        # print(i,j)\n",
    "        # print(i,end=\" \")\n",
    "\n",
    "    print(' ')"
   ]
  },
  {
   "cell_type": "markdown",
   "id": "ec9c78bc",
   "metadata": {},
   "source": [
    "Inverted pyramid pattern of numbers\n",
    "\n",
    "An inverted pyramid is a downward pattern where numbers get reduced in each iteration, and on the last row, it shows only one number. Use reverse for loop to print this pattern.\n",
    "\n",
    "Pattern\n",
    "\n",
    "1 1 1 1 1 \n",
    "\n",
    "2 2 2 2 \n",
    "\n",
    "3 3 3 \n",
    "\n",
    "4 4 \n",
    "\n",
    "5"
   ]
  },
  {
   "cell_type": "code",
   "execution_count": null,
   "id": "16c4c909",
   "metadata": {},
   "outputs": [],
   "source": [
    "for i in range(n):\n",
    "    for j in range():\n",
    "        print(\"\")"
   ]
  },
  {
   "cell_type": "markdown",
   "id": "2d56c67e",
   "metadata": {},
   "source": [
    "Exercise 11: Get each digit from a number in the reverse order.\n",
    "\n",
    "For example, If the given integer number is 7536, the output shall be “6 3 5 7“, with a space separating the digits.\n",
    "\n",
    "Given:\n",
    "\n",
    "number = 7536\n",
    "# Output 6 3 5 7"
   ]
  },
  {
   "cell_type": "code",
   "execution_count": null,
   "id": "7f9b095b",
   "metadata": {},
   "outputs": [
    {
     "name": "stdout",
     "output_type": "stream",
     "text": [
      "6 3 5 7 "
     ]
    }
   ],
   "source": [
    "class reverse:\n",
    "    digi_str = \" \"\n",
    "    def __init__(self,number):\n",
    "        self.number = number \n",
    "\n",
    "    \n",
    "    def rev(self):\n",
    "        digi_str = \" \"\n",
    "        digi_lst = []\n",
    "        dividend = self.number\n",
    "        for i in range(len(str(self.number))):\n",
    "            \n",
    "            last_digit = dividend%10\n",
    "            dividend = dividend//10\n",
    "            digi_str += str(last_digit)\n",
    "            digi_lst.append(last_digit)\n",
    "        for num in digi_lst:\n",
    "                print(num,end=\" \")\n",
    "\n",
    "run = reverse(7536)\n",
    "value = run.rev()\n",
    "\n",
    "value\n"
   ]
  },
  {
   "cell_type": "code",
   "execution_count": 18,
   "id": "1ea0ddb0",
   "metadata": {},
   "outputs": [
    {
     "name": "stdout",
     "output_type": "stream",
     "text": [
      "3 2 3 2 "
     ]
    }
   ],
   "source": [
    "ls= [3, 2, 3, 2]\n",
    "\n",
    "for num in ls:\n",
    "    print(num,end=\" \")"
   ]
  }
 ],
 "metadata": {
  "kernelspec": {
   "display_name": "Python 3",
   "language": "python",
   "name": "python3"
  },
  "language_info": {
   "codemirror_mode": {
    "name": "ipython",
    "version": 3
   },
   "file_extension": ".py",
   "mimetype": "text/x-python",
   "name": "python",
   "nbconvert_exporter": "python",
   "pygments_lexer": "ipython3",
   "version": "3.11.9"
  }
 },
 "nbformat": 4,
 "nbformat_minor": 5
}
